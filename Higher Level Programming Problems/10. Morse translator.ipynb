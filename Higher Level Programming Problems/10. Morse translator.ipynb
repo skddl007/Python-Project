{
 "cells": [
  {
   "cell_type": "markdown",
   "metadata": {},
   "source": [
    "# 10. Create a Morse code translator."
   ]
  },
  {
   "cell_type": "code",
   "execution_count": null,
   "metadata": {},
   "outputs": [],
   "source": [
    "MORSE_DICT = {'A': '.-', 'B': '-...', 'C': '-.-.', 'D': '-..', 'E': '.',\n",
    "              'F': '..-.', 'G': '--.', 'H': '....', 'I': '..', 'J': '.---',\n",
    "              'K': '-.-', 'L': '.-..', 'M': '--', 'N': '-.', 'O': '---',\n",
    "              'P': '.--.', 'Q': '--.-', 'R': '.-.', 'S': '...', 'T': '-',\n",
    "              'U': '..-', 'V': '...-', 'W': '.--', 'X': '-..-', 'Y': '-.--',\n",
    "              'Z': '--..', '1': '.----', '2': '..---', '3': '...--',\n",
    "              '4': '....-', '5': '.....', '6': '-....', '7': '--...',\n",
    "              '8': '---..', '9': '----.', '0': '-----', ',': '--..--',\n",
    "              '.': '.-.-.-', '?': '..--..', '/': '-..-.', '-': '-....-',\n",
    "              '(': '-.--.', ')': '-.--.-', ' ': '/'}\n",
    "\n",
    "# Function to convert text to Morse code\n",
    "def text_to_morse(text):\n",
    "    morse_code = ''\n",
    "    for i in text.upper():\n",
    "        if i in MORSE_DICT:\n",
    "            # Add Morse code representation followed by a space\n",
    "            morse_code += MORSE_DICT[i] + ' '\n",
    "        else:\n",
    "            # Add a space for non-alphabetic characters\n",
    "            morse_code += ' '\n",
    "    return morse_code\n",
    "\n",
    "# Function to convert Morse code to text\n",
    "def morse_to_text(morse_code):\n",
    "    morse_code = morse_code.split(' ')\n",
    "    text = ''\n",
    "    for j in morse_code:\n",
    "        for key, value in MORSE_DICT.items():\n",
    "            if j == value:\n",
    "                # Add corresponding character for Morse code\n",
    "                text += key\n",
    "    return text\n",
    "\n",
    "# Example usage:\n",
    "text_input = \"my name is sandeep\"\n",
    "morse_output = text_to_morse(text_input)\n",
    "print(\"Text to Morse Code:\", morse_output)\n",
    "\n",
    "text_output = morse_to_text(morse_output)\n",
    "print(\"Morse Code to Text:\", text_output)\n"
   ]
  }
 ],
 "metadata": {
  "kernelspec": {
   "display_name": "Python 3",
   "language": "python",
   "name": "python3"
  },
  "language_info": {
   "codemirror_mode": {
    "name": "ipython",
    "version": 3
   },
   "file_extension": ".py",
   "mimetype": "text/x-python",
   "name": "python",
   "nbconvert_exporter": "python",
   "pygments_lexer": "ipython3",
   "version": "3.11.5"
  }
 },
 "nbformat": 4,
 "nbformat_minor": 2
}
