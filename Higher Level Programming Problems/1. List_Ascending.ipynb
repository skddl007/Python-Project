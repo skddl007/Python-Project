{
 "cells": [
  {
   "cell_type": "markdown",
   "metadata": {},
   "source": [
    "# 1. Given a list of numbers, sort it in ascending order.\n"
   ]
  },
  {
   "cell_type": "code",
   "execution_count": 1,
   "metadata": {},
   "outputs": [
    {
     "name": "stdout",
     "output_type": "stream",
     "text": [
      "[2, 11, 23, 54, 86, 334, 435]\n"
     ]
    }
   ],
   "source": [
    "list1 = [86,23,435,11,334,54,2]\n",
    "\n",
    "for i in range(len(list1)):\n",
    "    #remaining elements after the current element\n",
    "    for j in range(i+1,len(list1)):\n",
    "        # compare each pair of adjacent elements\n",
    "        if list1[i]>list1[j]:\n",
    "            num = list1[i]          # assign a variable for store value\n",
    "            list1[i] = list1[j]\n",
    "            list1[j] = num\n",
    "\n",
    "print(list1)"
   ]
  }
 ],
 "metadata": {
  "kernelspec": {
   "display_name": "Python 3",
   "language": "python",
   "name": "python3"
  },
  "language_info": {
   "codemirror_mode": {
    "name": "ipython",
    "version": 3
   },
   "file_extension": ".py",
   "mimetype": "text/x-python",
   "name": "python",
   "nbconvert_exporter": "python",
   "pygments_lexer": "ipython3",
   "version": "3.11.5"
  }
 },
 "nbformat": 4,
 "nbformat_minor": 2
}
