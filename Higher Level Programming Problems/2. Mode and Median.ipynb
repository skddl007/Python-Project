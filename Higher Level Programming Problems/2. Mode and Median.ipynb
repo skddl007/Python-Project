{
 "cells": [
  {
   "cell_type": "markdown",
   "metadata": {},
   "source": [
    "# 2.Given a list of numbers, find out the median and mode."
   ]
  },
  {
   "cell_type": "code",
   "execution_count": 10,
   "metadata": {},
   "outputs": [
    {
     "name": "stdout",
     "output_type": "stream",
     "text": [
      "Sorted List: [1, 2, 3, 3, 4, 4, 5, 6, 6, 43]\n",
      "Frequency Dictionary: {1: 1, 2: 1, 3: 2, 4: 2, 5: 1, 6: 2, 43: 1}\n",
      "Mode is: [3, 4, 6]\n",
      "Median is: 4.0\n"
     ]
    }
   ],
   "source": [
    "list1 = [2, 4, 6, 6, 5, 4, 43, 3, 3, 1]\n",
    "\n",
    "# list in ascending order\n",
    "for i in range(len(list1)):\n",
    "    for j in range(i + 1, len(list1)):\n",
    "        if list1[i] > list1[j]:\n",
    "            # Swap elements if they are in the wrong order\n",
    "            list1[i], list1[j] = list1[j], list1[i]\n",
    "\n",
    "# Calculating the median\n",
    "lth = len(list1)\n",
    "if lth % 2 == 0:\n",
    "    median = (list1[lth // 2] + list1[lth // 2 - 1]) / 2\n",
    "else:\n",
    "    median = list1[lth // 2]\n",
    "\n",
    "# Counting occurrences of each element and storing in a dictionary\n",
    "dict1 = {}\n",
    "for i in list1:\n",
    "    cnt = 0\n",
    "    for j in list1:\n",
    "        if i == j:\n",
    "            cnt += 1\n",
    "    dict1[i] = cnt\n",
    "\n",
    "# mode (the most frequent element/s)\n",
    "mx = 0\n",
    "for value in dict1.values():\n",
    "    if mx < value:\n",
    "        mx = value\n",
    "\n",
    "mode = []\n",
    "for key, value in dict1.items():\n",
    "    if value == mx:\n",
    "        mode.append(key)\n",
    "\n",
    "print(\"Sorted List:\", list1)\n",
    "print(\"Frequency Dictionary:\", dict1)\n",
    "print(\"Mode is:\", mode)\n",
    "print(\"Median is:\", median)\n"
   ]
  }
 ],
 "metadata": {
  "kernelspec": {
   "display_name": "Python 3",
   "language": "python",
   "name": "python3"
  },
  "language_info": {
   "codemirror_mode": {
    "name": "ipython",
    "version": 3
   },
   "file_extension": ".py",
   "mimetype": "text/x-python",
   "name": "python",
   "nbconvert_exporter": "python",
   "pygments_lexer": "ipython3",
   "version": "3.11.5"
  }
 },
 "nbformat": 4,
 "nbformat_minor": 2
}
