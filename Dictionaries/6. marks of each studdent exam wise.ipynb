{
 "cells": [
  {
   "cell_type": "markdown",
   "metadata": {},
   "source": [
    "# 6. Create a dictionary to store the total marks of 5 students in the class in 3 subjects (Course1, Course2, Course3). The keys must be the student names, and the values must be the list of marks. Create another list which has the course names in the same order as the marks are stored in the dictionary values. Now write a nested for loop to print the marks for each student exam wise.\n",
    "Student1\n",
    "Course1 marks : 82\n",
    "Course2 marks : 84\n",
    "Course3 marks : 72\n",
    "Student2\n",
    "Course1 marks : 87\n",
    "Course2 marks : 83\n",
    "Course3 marks : 78"
   ]
  },
  {
   "cell_type": "code",
   "execution_count": 1,
   "metadata": {},
   "outputs": [
    {
     "name": "stdout",
     "output_type": "stream",
     "text": [
      "{'Akash': [95, 92, 96], 'Rajat': [90, 98, 99], 'Sandeep': [92, 90, 89], 'Mayank': [82, 84, 72], 'Mallesh': [87, 83, 78]}\n",
      "Akash\n",
      "Physics :- 95\n",
      "Chemistry :- 92\n",
      "Mathematics :- 96\n",
      "\n",
      "\n",
      "Rajat\n",
      "Physics :- 90\n",
      "Chemistry :- 98\n",
      "Mathematics :- 99\n",
      "\n",
      "\n",
      "Sandeep\n",
      "Physics :- 92\n",
      "Chemistry :- 90\n",
      "Mathematics :- 89\n",
      "\n",
      "\n",
      "Mayank\n",
      "Physics :- 82\n",
      "Chemistry :- 84\n",
      "Mathematics :- 72\n",
      "\n",
      "\n",
      "Mallesh\n",
      "Physics :- 87\n",
      "Chemistry :- 83\n",
      "Mathematics :- 78\n",
      "\n",
      "\n"
     ]
    }
   ],
   "source": [
    "stdict = {}\n",
    "stdict['Akash'] = [95, 92, 96]\n",
    "stdict['Rajat'] = [90, 98, 99]\n",
    "stdict['Sandeep'] = [92, 90,89]\n",
    "stdict['Mayank'] = [82, 84, 72]\n",
    "stdict['Mallesh'] = [87, 83, 78]\n",
    "print(stdict)\n",
    "\n",
    "# Define a list of courses\n",
    "course = ['Physics', 'Chemistry', 'Mathematics']\n",
    "\n",
    "# Iterate over the dictionary\n",
    "for key, value in stdict.items():\n",
    "    print(key)\n",
    "    for i in range(len(course)):\n",
    "        #print the student name and their marks in each course\n",
    "        print(course[i], \":-\" ,value[i])\n",
    "    print(\"\\n\")\n"
   ]
  }
 ],
 "metadata": {
  "kernelspec": {
   "display_name": "Python 3",
   "language": "python",
   "name": "python3"
  },
  "language_info": {
   "codemirror_mode": {
    "name": "ipython",
    "version": 3
   },
   "file_extension": ".py",
   "mimetype": "text/x-python",
   "name": "python",
   "nbconvert_exporter": "python",
   "pygments_lexer": "ipython3",
   "version": "3.11.5"
  }
 },
 "nbformat": 4,
 "nbformat_minor": 2
}
