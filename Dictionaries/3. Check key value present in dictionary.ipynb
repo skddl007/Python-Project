{
 "cells": [
  {
   "cell_type": "markdown",
   "metadata": {},
   "source": [
    "# 3.Check if a key exists in a dictionary: and Check if a value exists in a dictionary:\n",
    "sample_dict = {‘a’: 100, ‘b’: 200, ‘c’: 300}\n",
    "key_needed = ‘d’\n",
    "value_needed = 200"
   ]
  },
  {
   "cell_type": "code",
   "execution_count": 6,
   "metadata": {},
   "outputs": [
    {
     "name": "stdout",
     "output_type": "stream",
     "text": [
      "The key d does not exist in the dictionary.\n",
      "The value 200 exists in the dictionary.\n"
     ]
    }
   ],
   "source": [
    "sample_dict = {'a': 100, 'b': 200, 'c': 300}\n",
    "\n",
    "key_needed = 'd'\n",
    "value_needed = 200\n",
    "\n",
    "# Check if the key exists in the dictionary\n",
    "if key_needed in sample_dict:\n",
    "    print(\"The key\", key_needed, \"exists in the dictionary.\")\n",
    "else:\n",
    "    print(\"The key\", key_needed, \"does not exist in the dictionary.\")\n",
    "\n",
    "# Check if the value exists in the dictionary\n",
    "if value_needed in sample_dict.values():\n",
    "    print(\"The value\", value_needed, \"exists in the dictionary.\")\n",
    "else:\n",
    "    print(\"The value\", value_needed, \"does not exist in the dictionary.\")\n"
   ]
  }
 ],
 "metadata": {
  "kernelspec": {
   "display_name": "Python 3",
   "language": "python",
   "name": "python3"
  },
  "language_info": {
   "codemirror_mode": {
    "name": "ipython",
    "version": 3
   },
   "file_extension": ".py",
   "mimetype": "text/x-python",
   "name": "python",
   "nbconvert_exporter": "python",
   "pygments_lexer": "ipython3",
   "version": "3.11.5"
  }
 },
 "nbformat": 4,
 "nbformat_minor": 2
}
