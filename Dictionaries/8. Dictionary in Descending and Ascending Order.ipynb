{
 "cells": [
  {
   "cell_type": "markdown",
   "metadata": {},
   "source": [
    "# 3. Create a dictionary of your marks in various subjects and then sort it by its values first in descending order, and then in or ascending order. Do not use any inbuilt sorting functions."
   ]
  },
  {
   "cell_type": "code",
   "execution_count": 2,
   "metadata": {},
   "outputs": [
    {
     "name": "stdout",
     "output_type": "stream",
     "text": [
      "Descending order: {'e': 11, 'c': 32, 'd': 45, 'a': 86, 'b': 874}\n",
      "ascending order: {'b': 874, 'a': 86, 'd': 45, 'c': 32, 'e': 11}\n"
     ]
    }
   ],
   "source": [
    "dict1 = {'a':86, 'b':874,'c':32,'d':45,'e':11}\n",
    "\n",
    "k_lst = []\n",
    "v_lst = []\n",
    "desc_dict = {}\n",
    "asc_dict = {}\n",
    "\n",
    "for key, value in dict1.items():\n",
    "    k_lst.append(key)\n",
    "    v_lst.append(value)\n",
    "\n",
    "# Sort the lists in ascending order\n",
    "for i in range(len(v_lst)):\n",
    "    for j in range(i, len(v_lst)):\n",
    "        if v_lst[i] >v_lst[j]:\n",
    "            v_lst[i],v_lst[j] = v_lst[j],v_lst[i]\n",
    "            k_lst[i],k_lst[j] = k_lst[j],k_lst[i]\n",
    "    desc_dict[k_lst[i]] = v_lst[i]\n",
    "print(\"Descending order:\", desc_dict)\n",
    "\n",
    "# Sort the lists in descending order\n",
    "for i in range(len(v_lst)):\n",
    "    for j in range(i, len(v_lst)):\n",
    "        if v_lst[i] <v_lst[j]:\n",
    "            v_lst[i],v_lst[j] = v_lst[j],v_lst[i]\n",
    "            k_lst[i],k_lst[j] = k_lst[j],k_lst[i]\n",
    "    asc_dict[k_lst[i]] = v_lst[i]\n",
    "print(\"ascending order:\", asc_dict)\n"
   ]
  }
 ],
 "metadata": {
  "kernelspec": {
   "display_name": "Python 3",
   "language": "python",
   "name": "python3"
  },
  "language_info": {
   "codemirror_mode": {
    "name": "ipython",
    "version": 3
   },
   "file_extension": ".py",
   "mimetype": "text/x-python",
   "name": "python",
   "nbconvert_exporter": "python",
   "pygments_lexer": "ipython3",
   "version": "3.11.5"
  }
 },
 "nbformat": 4,
 "nbformat_minor": 2
}
