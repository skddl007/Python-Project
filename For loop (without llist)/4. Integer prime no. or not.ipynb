{
 "cells": [
  {
   "cell_type": "markdown",
   "metadata": {},
   "source": [
    "# 4.Given a positive integer, find out if it’s prime or not."
   ]
  },
  {
   "cell_type": "code",
   "execution_count": 6,
   "metadata": {},
   "outputs": [
    {
     "name": "stdout",
     "output_type": "stream",
     "text": [
      "5 is prime no.\n"
     ]
    }
   ],
   "source": [
    "n = int(input(\"enter a + integer\"))\n",
    "\n",
    "lth = int((n**0.5)+1)  # Calculate the square root of n and add 1 to it\n",
    "count = 0  # Initialize count to 0\n",
    "for i in range(2,lth):  # Loop through all numbers from 2 to lth\n",
    "    if n%i==0:\n",
    "        count+=1\n",
    "\n",
    "if count==0 and n!=1:  # If count is 0 and n is not equal to 1\n",
    "    print(n,\"is prime no.\")\n",
    "else:\n",
    "    print(n,\"is not prime no.\")\n"
   ]
  }
 ],
 "metadata": {
  "kernelspec": {
   "display_name": "Python 3",
   "language": "python",
   "name": "python3"
  },
  "language_info": {
   "codemirror_mode": {
    "name": "ipython",
    "version": 3
   },
   "file_extension": ".py",
   "mimetype": "text/x-python",
   "name": "python",
   "nbconvert_exporter": "python",
   "pygments_lexer": "ipython3",
   "version": "3.11.5"
  }
 },
 "nbformat": 4,
 "nbformat_minor": 2
}
