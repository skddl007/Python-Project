{
 "cells": [
  {
   "cell_type": "markdown",
   "metadata": {},
   "source": [
    "# 2. Given a positive integer, find out the sum of all integers from 1 up to this number."
   ]
  },
  {
   "cell_type": "code",
   "execution_count": 1,
   "metadata": {},
   "outputs": [
    {
     "name": "stdout",
     "output_type": "stream",
     "text": [
      "sum of integer up to this number: 15\n"
     ]
    }
   ],
   "source": [
    "n = int(input(\"enter a + integer\"))\n",
    "\n",
    "# Initialize the sum variable\n",
    "sum = 0\n",
    "\n",
    "# Calculate the sum of all integers from 1 to n\n",
    "for i in range(1,n+1):\n",
    "    sum = sum+i\n",
    "\n",
    "print(\"sum of integer up to this number:\", sum)\n"
   ]
  }
 ],
 "metadata": {
  "kernelspec": {
   "display_name": "Python 3",
   "language": "python",
   "name": "python3"
  },
  "language_info": {
   "codemirror_mode": {
    "name": "ipython",
    "version": 3
   },
   "file_extension": ".py",
   "mimetype": "text/x-python",
   "name": "python",
   "nbconvert_exporter": "python",
   "pygments_lexer": "ipython3",
   "version": "3.11.5"
  }
 },
 "nbformat": 4,
 "nbformat_minor": 2
}
