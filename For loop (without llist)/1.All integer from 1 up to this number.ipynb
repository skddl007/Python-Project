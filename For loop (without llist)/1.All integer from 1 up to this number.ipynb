{
 "cells": [
  {
   "cell_type": "markdown",
   "metadata": {},
   "source": [
    "# 1. Given a positive integer, print all integers from 1 up to this number."
   ]
  },
  {
   "cell_type": "code",
   "execution_count": 2,
   "metadata": {},
   "outputs": [
    {
     "name": "stdout",
     "output_type": "stream",
     "text": [
      "Enter +ve integer: 6\n",
      "1 2 3 4 5 6 "
     ]
    }
   ],
   "source": [
    "n = int(input(\"Enter a integer value\"))\n",
    "\n",
    "# Check if n is positive\n",
    "if n>0:\n",
    "    # Print the numbers from 1 to n\n",
    "    for i in range(1,(n+1)):\n",
    "        print(i, end=\" \")\n",
    "else:\n",
    "    # Print an error message if n is not positive\n",
    "    print(\"enter a positive number\")\n"
   ]
  }
 ],
 "metadata": {
  "kernelspec": {
   "display_name": "Python 3",
   "language": "python",
   "name": "python3"
  },
  "language_info": {
   "codemirror_mode": {
    "name": "ipython",
    "version": 3
   },
   "file_extension": ".py",
   "mimetype": "text/x-python",
   "name": "python",
   "nbconvert_exporter": "python",
   "pygments_lexer": "ipython3",
   "version": "3.11.5"
  }
 },
 "nbformat": 4,
 "nbformat_minor": 2
}
