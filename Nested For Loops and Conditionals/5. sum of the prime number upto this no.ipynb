{
 "cells": [
  {
   "cell_type": "markdown",
   "metadata": {},
   "source": [
    "# 5. Given a positive integers, find out the sum of all prime numbers from 1 up to this number."
   ]
  },
  {
   "cell_type": "code",
   "execution_count": 4,
   "metadata": {},
   "outputs": [
    {
     "name": "stdout",
     "output_type": "stream",
     "text": [
      "Sum of Prime no.s upto this no. is: 10\n"
     ]
    }
   ],
   "source": [
    "n = int(input(\"Enter a positive number\"))\n",
    "sum1 = 0\n",
    "for i in range(2,n+1):\n",
    "    count = 0\n",
    "    for x in range(2,int(i**0.5)+1):  # Loop through all numbers from 2 to square root of i\n",
    "        if i%x ==0:  # If i is divisible by x\n",
    "            count += 1  # Increment count\n",
    "    if count ==0:  # If count is still 0, i is prime\n",
    "        sum1 = sum1+i  # Add i to the sum of primes\n",
    "print(\"Sum of Prime no.s upto this no. is:\", sum1)\n"
   ]
  }
 ],
 "metadata": {
  "kernelspec": {
   "display_name": "Python 3",
   "language": "python",
   "name": "python3"
  },
  "language_info": {
   "codemirror_mode": {
    "name": "ipython",
    "version": 3
   },
   "file_extension": ".py",
   "mimetype": "text/x-python",
   "name": "python",
   "nbconvert_exporter": "python",
   "pygments_lexer": "ipython3",
   "version": "3.11.5"
  }
 },
 "nbformat": 4,
 "nbformat_minor": 2
}
