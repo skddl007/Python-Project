{
 "cells": [
  {
   "cell_type": "markdown",
   "metadata": {},
   "source": [
    "7. Given a list of integers, find all pairs of integers in the list whose sum is zero."
   ]
  },
  {
   "cell_type": "code",
   "execution_count": 11,
   "metadata": {},
   "outputs": [
    {
     "name": "stdout",
     "output_type": "stream",
     "text": [
      "The list is: [1, -2, 2, -3, 3, 4, -5, 6, 3, -7, 8, -9, 0]\n",
      "The pairs whose sum is zero are: [(-2, 2), (-3, 3), (-3, 3)]\n"
     ]
    }
   ],
   "source": [
    "lst = [1, -2, 2,-3, 3, 4, -5, 6, 3, -7, 8, -9, 0]\n",
    "\n",
    "pairs = []\n",
    "\n",
    "for i in range(len(lst)):\n",
    "    # remaining elements after the current element\n",
    "    for j in range(i+1, len(lst)):\n",
    "        # Check if the sum of the current element and the next element is zero\n",
    "        if lst[i] + lst[j] == 0:\n",
    "            # Add the pair to the list\n",
    "            pairs.append((lst[i], lst[j]))\n",
    "print(\"The list is:\", lst)\n",
    "print(\"The pairs whose sum is zero are:\", pairs)\n"
   ]
  }
 ],
 "metadata": {
  "kernelspec": {
   "display_name": "Python 3",
   "language": "python",
   "name": "python3"
  },
  "language_info": {
   "codemirror_mode": {
    "name": "ipython",
    "version": 3
   },
   "file_extension": ".py",
   "mimetype": "text/x-python",
   "name": "python",
   "nbconvert_exporter": "python",
   "pygments_lexer": "ipython3",
   "version": "3.11.5"
  }
 },
 "nbformat": 4,
 "nbformat_minor": 2
}
