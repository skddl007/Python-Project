{
 "cells": [
  {
   "cell_type": "markdown",
   "metadata": {},
   "source": [
    "7. Given a list of integers, find all pairs of integers in the list whose sum is zero."
   ]
  },
  {
   "cell_type": "code",
   "execution_count": 4,
   "metadata": {},
   "outputs": [
    {
     "name": "stdout",
     "output_type": "stream",
     "text": [
      "[[5, -5], [3, -3]]\n"
     ]
    }
   ],
   "source": [
    "list1 = [5, 3, 4,-3,5,-3,-5]\n",
    "pos_lst = []\n",
    "neg_lst =[]\n",
    "pair =[]\n",
    "\n",
    "# Separate positive and negative numbers into two lists\n",
    "for i in list1:\n",
    "    if i>=0 and (i not in pos_lst):\n",
    "        pos_lst.append(i)\n",
    "    elif i<0 and (i not in neg_lst):\n",
    "        neg_lst.append(i)\n",
    "\n",
    "# Find pairs of positive and negative numbers that add up to zero\n",
    "for i in pos_lst:\n",
    "    for j in neg_lst:\n",
    "        if i+j==0:\n",
    "            pair.append([i,j])\n",
    "print(pair)\n"
   ]
  }
 ],
 "metadata": {
  "kernelspec": {
   "display_name": "Python 3",
   "language": "python",
   "name": "python3"
  },
  "language_info": {
   "codemirror_mode": {
    "name": "ipython",
    "version": 3
   },
   "file_extension": ".py",
   "mimetype": "text/x-python",
   "name": "python",
   "nbconvert_exporter": "python",
   "pygments_lexer": "ipython3",
   "version": "3.11.5"
  }
 },
 "nbformat": 4,
 "nbformat_minor": 2
}
