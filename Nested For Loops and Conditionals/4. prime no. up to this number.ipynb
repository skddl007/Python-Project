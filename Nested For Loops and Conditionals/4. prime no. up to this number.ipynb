{
 "cells": [
  {
   "cell_type": "markdown",
   "metadata": {},
   "source": [
    "# 4. Given a positive integer, find out all prime numbers from 1 up to this number."
   ]
  },
  {
   "cell_type": "code",
   "execution_count": 5,
   "metadata": {},
   "outputs": [
    {
     "name": "stdout",
     "output_type": "stream",
     "text": [
      "[2, 3, 5]\n"
     ]
    }
   ],
   "source": [
    "n = int(input(\"Enter a positive number\"))\n",
    "lsprim = []\n",
    "for i in range(2,n+1):\n",
    "    count = 0 \n",
    "    for x in range(2,int(i**0.5)+1):  # Loop through all numbers from 2 to square root of i\n",
    "        if i%x ==0:  # If i is divisible by x\n",
    "            count +=1  # Increment count\n",
    "    if count == 0:  # If count is still 0, i is prime\n",
    "        lsprim.append(i)\n",
    "print(lsprim)\n"
   ]
  }
 ],
 "metadata": {
  "kernelspec": {
   "display_name": "Python 3",
   "language": "python",
   "name": "python3"
  },
  "language_info": {
   "codemirror_mode": {
    "name": "ipython",
    "version": 3
   },
   "file_extension": ".py",
   "mimetype": "text/x-python",
   "name": "python",
   "nbconvert_exporter": "python",
   "pygments_lexer": "ipython3",
   "version": "3.11.5"
  }
 },
 "nbformat": 4,
 "nbformat_minor": 2
}
