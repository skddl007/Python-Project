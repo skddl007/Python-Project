{
 "cells": [
  {
   "cell_type": "markdown",
   "metadata": {},
   "source": [
    "9. Given a string input, find out if it’s a palindrome."
   ]
  },
  {
   "cell_type": "code",
   "execution_count": 4,
   "metadata": {},
   "outputs": [
    {
     "name": "stdout",
     "output_type": "stream",
     "text": [
      "This jalaj is palandrome: True\n"
     ]
    }
   ],
   "source": [
    "# Prompt user to enter a string value\n",
    "str1 = input(\"Enter a string value\")\n",
    "\n",
    "lnst1 = len(str1)\n",
    "# Initialize a boolean variable to False\n",
    "palandrome = False\n",
    "\n",
    "# Check if the entered string is a palindrome\n",
    "for i in range(lnst1//2):\n",
    "    if str1 == str1[::-1]:\n",
    "        palandrome = True\n",
    "\n",
    "print(\"This\", str1 ,\"is palandrome:\", palandrome)\n"
   ]
  }
 ],
 "metadata": {
  "kernelspec": {
   "display_name": "Python 3",
   "language": "python",
   "name": "python3"
  },
  "language_info": {
   "codemirror_mode": {
    "name": "ipython",
    "version": 3
   },
   "file_extension": ".py",
   "mimetype": "text/x-python",
   "name": "python",
   "nbconvert_exporter": "python",
   "pygments_lexer": "ipython3",
   "version": "3.11.5"
  }
 },
 "nbformat": 4,
 "nbformat_minor": 2
}
