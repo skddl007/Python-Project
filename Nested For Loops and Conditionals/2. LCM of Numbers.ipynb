{
 "cells": [
  {
   "cell_type": "markdown",
   "metadata": {},
   "source": [
    "# 2. Given two numbers, find its Least Common Multiple (LCM)."
   ]
  },
  {
   "cell_type": "code",
   "execution_count": 2,
   "metadata": {},
   "outputs": [
    {
     "name": "stdout",
     "output_type": "stream",
     "text": [
      "LCM of number: 24\n"
     ]
    }
   ],
   "source": [
    "n1 = 8\n",
    "n2 = 6\n",
    "\n",
    "# Find the maximum number between n1 and n2\n",
    "if n1>n2:\n",
    "    max1 = n1\n",
    "else:\n",
    "    max1 = n2\n",
    "\n",
    "# Loop through multiples of max1 and check if they are divisible by both n1 and n2\n",
    "for i in range(int((n1*n2)),max1+1,-1):\n",
    "    if i%n1==0 and i%n2==0:\n",
    "        LCM = i\n",
    "\n",
    "print(\"LCM of number:\", LCM)\n",
    "\n",
    "        "
   ]
  }
 ],
 "metadata": {
  "kernelspec": {
   "display_name": "Python 3",
   "language": "python",
   "name": "python3"
  },
  "language_info": {
   "codemirror_mode": {
    "name": "ipython",
    "version": 3
   },
   "file_extension": ".py",
   "mimetype": "text/x-python",
   "name": "python",
   "nbconvert_exporter": "python",
   "pygments_lexer": "ipython3",
   "version": "3.11.5"
  }
 },
 "nbformat": 4,
 "nbformat_minor": 2
}
