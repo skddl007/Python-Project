{
 "cells": [
  {
   "cell_type": "markdown",
   "metadata": {},
   "source": [
    "# 3. Given two numbers, find its Greatest Common Divisor (Divisor)."
   ]
  },
  {
   "cell_type": "code",
   "execution_count": 16,
   "metadata": {},
   "outputs": [
    {
     "name": "stdout",
     "output_type": "stream",
     "text": [
      "The Greatest Common Divisor of 8 and 6 is 2\n"
     ]
    }
   ],
   "source": [
    "num1 = 8\n",
    "num2 = 6\n",
    "\n",
    "# Find the minimum of the two numbers\n",
    "if num1<num2:\n",
    "    min1 = num1\n",
    "else:\n",
    "    min1 = num2\n",
    "\n",
    "# check if they are divisible by both n1 and n2\n",
    "for i in range(1, (min1 + 1)):\n",
    "    if num1 % i == 0 and  num2 % i == 0:\n",
    "        hcf1 = i\n",
    "\n",
    "print(\"The Greatest Common Divisor of\", num1, \"and\", num2, \"is\", hcf1)\n"
   ]
  }
 ],
 "metadata": {
  "kernelspec": {
   "display_name": "Python 3",
   "language": "python",
   "name": "python3"
  },
  "language_info": {
   "codemirror_mode": {
    "name": "ipython",
    "version": 3
   },
   "file_extension": ".py",
   "mimetype": "text/x-python",
   "name": "python",
   "nbconvert_exporter": "python",
   "pygments_lexer": "ipython3",
   "version": "3.11.5"
  }
 },
 "nbformat": 4,
 "nbformat_minor": 2
}
