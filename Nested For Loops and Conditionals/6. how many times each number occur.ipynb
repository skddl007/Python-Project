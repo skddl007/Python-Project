{
 "cells": [
  {
   "cell_type": "markdown",
   "metadata": {},
   "source": [
    "# 6. Given a list of numbers, find out how many times each number occurs in the list."
   ]
  },
  {
   "cell_type": "code",
   "execution_count": 1,
   "metadata": {},
   "outputs": [
    {
     "name": "stdout",
     "output_type": "stream",
     "text": [
      "the 4 is times in listms  3\n",
      "the 8 is times in listms  2\n",
      "the 2 is times in listms  3\n",
      "the 1 is times in listms  1\n"
     ]
    }
   ],
   "source": [
    "list1 = [4, 8, 4, 2, 1, 2 ,8, 2, 4,]\n",
    "\n",
    "# store the unique elements of list1\n",
    "listm = []\n",
    "\n",
    "for i in list1:\n",
    "    count = 0\n",
    "    \n",
    "    # If the element is not already in listm\n",
    "    if i not in listm:\n",
    "        for x in list1:\n",
    "            if i == x:\n",
    "                count = count+1     #count the number of times\n",
    "        listm.append(i)\n",
    "        print ( \"the\" ,i, \"is times in listms \", count)\n"
   ]
  }
 ],
 "metadata": {
  "kernelspec": {
   "display_name": "Python 3",
   "language": "python",
   "name": "python3"
  },
  "language_info": {
   "codemirror_mode": {
    "name": "ipython",
    "version": 3
   },
   "file_extension": ".py",
   "mimetype": "text/x-python",
   "name": "python",
   "nbconvert_exporter": "python",
   "pygments_lexer": "ipython3",
   "version": "3.11.5"
  }
 },
 "nbformat": 4,
 "nbformat_minor": 2
}
