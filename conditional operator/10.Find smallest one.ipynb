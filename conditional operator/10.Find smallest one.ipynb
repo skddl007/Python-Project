{
 "cells": [
  {
   "cell_type": "markdown",
   "metadata": {},
   "source": [
    "# 10. Given three integers, find the smallest one."
   ]
  },
  {
   "cell_type": "code",
   "execution_count": 2,
   "metadata": {},
   "outputs": [
    {
     "name": "stdout",
     "output_type": "stream",
     "text": [
      "Enter a is: 7\n",
      "Enter b is: -5\n",
      "Enter c is: -7\n",
      "-7 is smallest\n"
     ]
    }
   ],
   "source": [
    "a = int(input(\"Entert a +ve number\"))\n",
    "b = int(input(\"Entert a +ve number\"))\n",
    "c = int(input(\"Entert a +ve number\"))\n",
    "\n",
    "# check smallest using conditional operatot\n",
    "if a<b and a<c:\n",
    "    print(a,\"is smallest\")\n",
    "elif b<c:\n",
    "        print(b,\"is smallest\")\n",
    "elif c<a:\n",
    "    print(c,\"is smallest\")\n",
    "else:\n",
    "    print(\"all are equal\")"
   ]
  }
 ],
 "metadata": {
  "kernelspec": {
   "display_name": "Python 3",
   "language": "python",
   "name": "python3"
  },
  "language_info": {
   "codemirror_mode": {
    "name": "ipython",
    "version": 3
   },
   "file_extension": ".py",
   "mimetype": "text/x-python",
   "name": "python",
   "nbconvert_exporter": "python",
   "pygments_lexer": "ipython3",
   "version": "3.11.5"
  }
 },
 "nbformat": 4,
 "nbformat_minor": 2
}
