{
 "cells": [
  {
   "cell_type": "markdown",
   "metadata": {},
   "source": [
    "# 2. Given two integers, find the larger one"
   ]
  },
  {
   "cell_type": "code",
   "execution_count": 1,
   "metadata": {},
   "outputs": [
    {
     "name": "stdout",
     "output_type": "stream",
     "text": [
      "8 is larger\n"
     ]
    }
   ],
   "source": [
    "n1 = int(input(\"Enter a value\"))\n",
    "n2 = int(input(\"Enter a value\"))\n",
    "\n",
    "# Compare the two numbers and print the larger one\n",
    "if n1 > n2:\n",
    "    print(n1, \"is larger\")\n",
    "elif n1 == n2:         # Compare if both are equal\n",
    "    print(\"Both are equal\")\n",
    "else:\n",
    "    print(n2, \"is larger\")\n",
    "\n"
   ]
  }
 ],
 "metadata": {
  "kernelspec": {
   "display_name": "Python 3",
   "language": "python",
   "name": "python3"
  },
  "language_info": {
   "codemirror_mode": {
    "name": "ipython",
    "version": 3
   },
   "file_extension": ".py",
   "mimetype": "text/x-python",
   "name": "python",
   "nbconvert_exporter": "python",
   "pygments_lexer": "ipython3",
   "version": "3.11.5"
  }
 },
 "nbformat": 4,
 "nbformat_minor": 2
}
