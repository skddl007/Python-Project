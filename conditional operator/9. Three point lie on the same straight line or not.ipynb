{
 "cells": [
  {
   "cell_type": "markdown",
   "metadata": {},
   "source": [
    "9. Given three points, find out whether they lie on the same straight line or not."
   ]
  },
  {
   "cell_type": "code",
   "execution_count": 1,
   "metadata": {},
   "outputs": [
    {
     "name": "stdout",
     "output_type": "stream",
     "text": [
      "area of triangle : 44.0\n",
      "points are not in same straight line\n"
     ]
    }
   ],
   "source": [
    "# Take three coordinate from user \n",
    "x1 = int(input(\"Enter the value: \"))\n",
    "y1 = int(input(\"Enter the value: \"))\n",
    "x2 = int(input(\"Enter the value: \"))\n",
    "y2 = int(input(\"Enter the value: \"))\n",
    "x3 = int(input(\"Enter the value: \"))\n",
    "y3 = int(input(\"Enter the value: \"))\n",
    "\n",
    "# for check collinearity use formula of area of triangle\n",
    "area = (1/2)*( x1*( y2 - y3 ) + x2*( y3 - y1 ) + x3*( y1 - y2 ) )\n",
    "print(\"area of triangle :\", area)\n",
    "\n",
    "# use conditional operator\n",
    "if area==0:\n",
    "    print(\"points are in same straight line\")\n",
    "else:\n",
    "    print(\"points are not in same straight line\")"
   ]
  }
 ],
 "metadata": {
  "kernelspec": {
   "display_name": "Python 3",
   "language": "python",
   "name": "python3"
  },
  "language_info": {
   "codemirror_mode": {
    "name": "ipython",
    "version": 3
   },
   "file_extension": ".py",
   "mimetype": "text/x-python",
   "name": "python",
   "nbconvert_exporter": "python",
   "pygments_lexer": "ipython3",
   "version": "3.11.5"
  }
 },
 "nbformat": 4,
 "nbformat_minor": 2
}
