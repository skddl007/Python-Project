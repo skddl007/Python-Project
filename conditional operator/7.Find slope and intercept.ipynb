{
 "cells": [
  {
   "cell_type": "markdown",
   "metadata": {},
   "source": [
    "# 7. Given two points (x1, y1) and (x2, y2), find the slope and intercept of the line joining these two points (the line may be perfectly horizontal or vertical)."
   ]
  },
  {
   "cell_type": "code",
   "execution_count": 2,
   "metadata": {},
   "outputs": [
    {
     "name": "stdout",
     "output_type": "stream",
     "text": [
      "Slope of the line is: -0.10526315789473684\n",
      "Intercept of the line is: 8.526315789473685\n"
     ]
    }
   ],
   "source": [
    "# Take input values for x1, y1, x2, y2\n",
    "x1 = float(input(\"Enter x1 value: \"))\n",
    "y1 = float(input(\"Enter y1 value: \"))\n",
    "x2 = float(input(\"Enter x2 value: \"))\n",
    "y2 = float(input(\"Enter y2 value: \"))\n",
    "\n",
    "# Check if the slope of the line is undefined\n",
    "if x2-x1 == 0:\n",
    "    print(\"Slope of the line is undefined.\")\n",
    "else:\n",
    "    # Calculate the slope and intercept of the line\n",
    "    m = (y2-y1)/(x2-x1)\n",
    "    intercpt = (y1-(m*x1))\n",
    "    print(\"Slope of the line is:\", m)\n",
    "    print(\"Intercept of the line is:\", intercpt)\n"
   ]
  }
 ],
 "metadata": {
  "kernelspec": {
   "display_name": "Python 3",
   "language": "python",
   "name": "python3"
  },
  "language_info": {
   "codemirror_mode": {
    "name": "ipython",
    "version": 3
   },
   "file_extension": ".py",
   "mimetype": "text/x-python",
   "name": "python",
   "nbconvert_exporter": "python",
   "pygments_lexer": "ipython3",
   "version": "3.11.5"
  }
 },
 "nbformat": 4,
 "nbformat_minor": 2
}
