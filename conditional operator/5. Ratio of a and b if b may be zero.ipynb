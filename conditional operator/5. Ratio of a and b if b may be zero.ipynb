{
 "cells": [
  {
   "cell_type": "markdown",
   "metadata": {},
   "source": [
    "# 5. Given two numbers, a and b, find the value of a/b (b may be zero)."
   ]
  },
  {
   "cell_type": "code",
   "execution_count": 2,
   "metadata": {},
   "outputs": [
    {
     "name": "stdout",
     "output_type": "stream",
     "text": [
      "The value of the a/b is: 1.8\n"
     ]
    }
   ],
   "source": [
    "a = float(input(\"Enter a value\"))\n",
    "b = float(input(\"Enter a value\"))\n",
    "\n",
    "if b==0: # Checks if b is zero.\n",
    "    print(\"undefined value\") # If b is zero then \"undefined value\".\n",
    "else:\n",
    "    print(\"The value of the a/b is:\", a/b) # If b is not zero then quotient of a and b.\n"
   ]
  }
 ],
 "metadata": {
  "kernelspec": {
   "display_name": "Python 3",
   "language": "python",
   "name": "python3"
  },
  "language_info": {
   "codemirror_mode": {
    "name": "ipython",
    "version": 3
   },
   "file_extension": ".py",
   "mimetype": "text/x-python",
   "name": "python",
   "nbconvert_exporter": "python",
   "pygments_lexer": "ipython3",
   "version": "3.11.5"
  }
 },
 "nbformat": 4,
 "nbformat_minor": 2
}
