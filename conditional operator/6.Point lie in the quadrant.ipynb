{
 "cells": [
  {
   "cell_type": "markdown",
   "metadata": {},
   "source": [
    "# 6. Given a point (x1, y1), find the quadrant in which this point lies."
   ]
  },
  {
   "cell_type": "code",
   "execution_count": null,
   "metadata": {},
   "outputs": [],
   "source": [
    "x1 = float(input(\"enter a value\"))\n",
    "y1 = float(input(\"enter a value\"))\n",
    "\n",
    "if x1>0:\n",
    "    if y1>0:\n",
    "        print(\"point lie in the 1st quadrant\")  # both x and y are positive\n",
    "    elif y1<0:\n",
    "        print(\"point lie in the 4th quadrant\")  # x is positive and y is negative\n",
    "    else:\n",
    "        print(\"point lie on the +x-axis\")  # x is positive and y is zero\n",
    "elif x1<0:\n",
    "    if y1>0:\n",
    "        print(\"point lie in the 2nd quadrant\")  # x is negative and y is positive\n",
    "    elif y1<0:\n",
    "        print(\"point lie in the 3rd quadrant\")  # both x and y are negative\n",
    "    else:\n",
    "        print(\"point lie on the -x axis\")  # x is negative and y is zero\n",
    "elif x1==0:\n",
    "    if y1>0:\n",
    "        print(\"point lie on the +y-axis\")  # x is zero and y is positive\n",
    "    elif y1<0:\n",
    "        print(\"point lie on the -y-axis\")  # x is zero and y is negative\n",
    "    else:\n",
    "        print(\"point lie on the origin\")  # both x and y are zero\n"
   ]
  }
 ],
 "metadata": {
  "kernelspec": {
   "display_name": "Python 3",
   "language": "python",
   "name": "python3"
  },
  "language_info": {
   "codemirror_mode": {
    "name": "ipython",
    "version": 3
   },
   "file_extension": ".py",
   "mimetype": "text/x-python",
   "name": "python",
   "nbconvert_exporter": "python",
   "pygments_lexer": "ipython3",
   "version": "3.11.5"
  }
 },
 "nbformat": 4,
 "nbformat_minor": 2
}
