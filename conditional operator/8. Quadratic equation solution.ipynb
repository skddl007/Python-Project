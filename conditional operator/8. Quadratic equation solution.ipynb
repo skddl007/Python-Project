{
 "cells": [
  {
   "cell_type": "markdown",
   "metadata": {},
   "source": [
    "# 8. Given a quadratic equation with coefficients a, b and c, find the two solutions (may be real or complex). You should not take the square root of a negative number in your code."
   ]
  },
  {
   "cell_type": "code",
   "execution_count": 5,
   "metadata": {},
   "outputs": [
    {
     "name": "stdout",
     "output_type": "stream",
     "text": [
      "the value of D: -28\n",
      "The value of complex roots: -0.25 + 0.6614378277661477 i and -0.25 - 0.6614378277661477 i\n"
     ]
    }
   ],
   "source": [
    "# value coefficient of x**2 from user input\n",
    "a = int(input(\"Enter the value coefficient of x**2: \"))\n",
    "# value coefficient of x from user input\n",
    "b = int(input(\"Enter the value coefficient of x: \"))\n",
    "# value of constant from user input\n",
    "c = int(input(\"Enter the value of constant: \"))\n",
    "\n",
    "# used the formula of Discriminant\n",
    "D = (b**2) - (4*a*c)\n",
    "print(\"the value of D:\", D)\n",
    "\n",
    "# used Sridharacharya formula\n",
    "if D > 0:\n",
    "    x = (-b + (D**0.5)) / (2*a)\n",
    "    y = (-b - (D**0.5)) / (2*a)\n",
    "    print(\"The value of real roots:\", x, y)\n",
    "elif D == 0:\n",
    "    x = -b / (2*a)\n",
    "    print(\"Both roots are equal:\", x)\n",
    "else:\n",
    "    realPart = -b / (2*a)\n",
    "    imaginaryPart = (abs(D)**0.5) / (2*a)\n",
    "    print(\"The value of complex roots:\", realPart, \"+\", imaginaryPart, \"i and\", realPart, \"-\", imaginaryPart, \"i\")\n"
   ]
  }
 ],
 "metadata": {
  "kernelspec": {
   "display_name": "Python 3",
   "language": "python",
   "name": "python3"
  },
  "language_info": {
   "codemirror_mode": {
    "name": "ipython",
    "version": 3
   },
   "file_extension": ".py",
   "mimetype": "text/x-python",
   "name": "python",
   "nbconvert_exporter": "python",
   "pygments_lexer": "ipython3",
   "version": "3.11.5"
  }
 },
 "nbformat": 4,
 "nbformat_minor": 2
}
