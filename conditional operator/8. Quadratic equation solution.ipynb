{
 "cells": [
  {
   "cell_type": "markdown",
   "metadata": {},
   "source": [
    "# 8. Given a quadratic equation with coefficients a, b and c, find the two solutions (may be real or complex). You should not take the square root of a negative number in your code."
   ]
  },
  {
   "cell_type": "code",
   "execution_count": 1,
   "metadata": {},
   "outputs": [
    {
     "name": "stdout",
     "output_type": "stream",
     "text": [
      "the value of D: -116\n",
      "real part: -0.16666666666666666 imaginaryPart: 0.8975274678557507\n"
     ]
    }
   ],
   "source": [
    "# value coefficient of x**2 from user input\n",
    "a = int(input(\"Enter the value coefficient of x**2: \"))\n",
    "# value coefficient of x from user input\n",
    "b = int(input(\"Enter the value coefficient of x: \"))\n",
    "# value of constant from user input\n",
    "c = int(input(\"Enter the value of constant: \"))\n",
    "\n",
    "# used the formula of Discriminant\n",
    "D = (b**2) - (4*a*c)\n",
    "print(\"the value of D:\", D)\n",
    "\n",
    "# used Quadratic formula\n",
    "if D > 0:\n",
    "    x = (-b + (D**0.5)) / (2*a)\n",
    "    y = (-b - (D**0.5)) / (2*a)\n",
    "    print(\"The value of real roots:\", x, y)\n",
    "elif D == 0:\n",
    "    x = -b / (2*a)\n",
    "    print(\"Both roots are equal:\", x)\n",
    "else:\n",
    "    realPart = (-b / (2*a))\n",
    "    imaginaryPart = ((4*a*c-b**2)**0.5) / (2*a)\n",
    "    print(\"real part:\",realPart ,\"imaginaryPart:\",imaginaryPart)\n",
    "    \n"
   ]
  }
 ],
 "metadata": {
  "kernelspec": {
   "display_name": "Python 3",
   "language": "python",
   "name": "python3"
  },
  "language_info": {
   "codemirror_mode": {
    "name": "ipython",
    "version": 3
   },
   "file_extension": ".py",
   "mimetype": "text/x-python",
   "name": "python",
   "nbconvert_exporter": "python",
   "pygments_lexer": "ipython3",
   "version": "3.11.5"
  }
 },
 "nbformat": 4,
 "nbformat_minor": 2
}
