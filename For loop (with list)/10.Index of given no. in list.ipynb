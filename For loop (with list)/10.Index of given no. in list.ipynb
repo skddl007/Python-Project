{
 "cells": [
  {
   "cell_type": "markdown",
   "metadata": {},
   "source": [
    "# 10. Given a list of numbers, find out the index of another given number."
   ]
  },
  {
   "cell_type": "code",
   "execution_count": 1,
   "metadata": {},
   "outputs": [
    {
     "name": "stdout",
     "output_type": "stream",
     "text": [
      "given no. index is: 4\n"
     ]
    }
   ],
   "source": [
    "list1 = [4, 2, 5, 7, 8, 6, 4, 9]\n",
    "\n",
    "target = 8\n",
    "\n",
    "# Iterate through the list \n",
    "for i in range(len(list1)):\n",
    "    if list1[i] == target: #check through indexing\n",
    "        index = i\n",
    "print(\"The index of the given number is:\", index)\n"
   ]
  }
 ],
 "metadata": {
  "kernelspec": {
   "display_name": "Python 3",
   "language": "python",
   "name": "python3"
  },
  "language_info": {
   "codemirror_mode": {
    "name": "ipython",
    "version": 3
   },
   "file_extension": ".py",
   "mimetype": "text/x-python",
   "name": "python",
   "nbconvert_exporter": "python",
   "pygments_lexer": "ipython3",
   "version": "3.11.5"
  }
 },
 "nbformat": 4,
 "nbformat_minor": 2
}
