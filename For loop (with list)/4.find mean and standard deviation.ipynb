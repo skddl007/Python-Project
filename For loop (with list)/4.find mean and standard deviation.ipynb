{
 "cells": [
  {
   "cell_type": "markdown",
   "metadata": {},
   "source": [
    "# 4. Given a list of numbers, find out the mean and standard deviation."
   ]
  },
  {
   "cell_type": "code",
   "execution_count": 5,
   "metadata": {},
   "outputs": [
    {
     "name": "stdout",
     "output_type": "stream",
     "text": [
      "4.833333333333333 1.5723301886761007\n"
     ]
    }
   ],
   "source": [
    "lst = [2,4,5,6,7,5.]\n",
    "lsum = 0\n",
    "lenlst = 0\n",
    "D = 0\n",
    "\n",
    "#calculate the sum and length of the list\n",
    "for i in lst:\n",
    "    lsum += i\n",
    "    lenlst += 1\n",
    "\n",
    "# Calculate the mean of the list\n",
    "mean = lsum / lenlst\n",
    "\n",
    "for i in lst:\n",
    "    #calculate the deviation\n",
    "    D += (i - mean) ** 2\n",
    "\n",
    "# Calculate the standard deviation of the list\n",
    "stddev = (D / lenlst) ** 0.5\n",
    "\n",
    "print(mean, stddev)\n"
   ]
  }
 ],
 "metadata": {
  "kernelspec": {
   "display_name": "Python 3",
   "language": "python",
   "name": "python3"
  },
  "language_info": {
   "codemirror_mode": {
    "name": "ipython",
    "version": 3
   },
   "file_extension": ".py",
   "mimetype": "text/x-python",
   "name": "python",
   "nbconvert_exporter": "python",
   "pygments_lexer": "ipython3",
   "version": "3.11.5"
  }
 },
 "nbformat": 4,
 "nbformat_minor": 2
}
