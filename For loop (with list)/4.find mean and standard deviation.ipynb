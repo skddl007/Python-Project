{
 "cells": [
  {
   "cell_type": "markdown",
   "metadata": {},
   "source": [
    "4. Given a list of numbers, find out the mean and standard deviation."
   ]
  },
  {
   "cell_type": "code",
   "execution_count": 1,
   "metadata": {},
   "outputs": [
    {
     "name": "stdout",
     "output_type": "stream",
     "text": [
      "7.5\n",
      "mean of the list numbers: 3.0\n",
      "standard deviation of list numbers: 1.224744871391589\n"
     ]
    }
   ],
   "source": [
    "lst1 = [1,2,3,4,5]\n",
    "lsum = 0\n",
    "lenlst =0\n",
    "D =0\n",
    "for i in lst1:\n",
    "    lsum += i\n",
    "    lenlst +=1\n",
    "    D =D+(i-(lsum)/(lenlst))**2\n",
    "print(D)\n",
    "print(\"mean of the list numbers:\", lsum/lenlst)\n",
    "print(\"standard deviation of list numbers:\", (D/lenlst)**(0.5))"
   ]
  }
 ],
 "metadata": {
  "kernelspec": {
   "display_name": "Python 3",
   "language": "python",
   "name": "python3"
  },
  "language_info": {
   "codemirror_mode": {
    "name": "ipython",
    "version": 3
   },
   "file_extension": ".py",
   "mimetype": "text/x-python",
   "name": "python",
   "nbconvert_exporter": "python",
   "pygments_lexer": "ipython3",
   "version": "3.11.5"
  }
 },
 "nbformat": 4,
 "nbformat_minor": 2
}
